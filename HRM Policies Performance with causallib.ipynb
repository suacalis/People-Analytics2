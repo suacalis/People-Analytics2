{
 "cells": [
  {
   "cell_type": "markdown",
   "id": "eb5daf19",
   "metadata": {},
   "source": [
    "# Impact of Promotion on Employee Performance"
   ]
  },
  {
   "cell_type": "markdown",
   "id": "3b63334e",
   "metadata": {},
   "source": [
    "### Introduction\n",
    "\n",
    "The link between management of employees and sustainable competitive advantage for organizations have been well documented in the literature.  Competitive advantage attained through HR policies is likely to be sustained because a company's policies may not be replicable easily by another company.  For instance, the mere fact that company A achieved improved employee performance through training or higher compensation or promotion does not necessarily mean that company B will also attain competitive advantage taking the same route.\n",
    "\n",
    "HR professionals are always concered with recruiting the right fit in order to maximize returns to their investments in the employees.  Promotion is one of the strategies used by organizations to achieve employee productivity, however, it may not be that certain that all employees promoted will respond appropriately to the strategy.  Carrying out an experiment to understand this issue may not be ethical, however, from historical observational data, one can construct an experimental data to examine the effect of promotion on employee performance.\n",
    "\n",
    "There are many HR datasets online, but I found this [Particular dataset](https://studio.azureml.net/Home/ViewWorkspaceCached/90abf1900f5e407cbbc7ccc08102e59a?#Workspaces/Experiments/Experiment/90abf1900f5e407cbbc7ccc08102e59a.f-id.4c495001b300451a839cef4ea67474b6/ViewExperiment) to be useful for our analysis.\n",
    "\n",
    "Again, there are many libraries available in analyzing causal effects such as causalml by Uber, DoWhy and ECONML by Microsoft, causallib by IBM.  For this analsis, we shall employ causallib library to take advatage of its various quasi-experimentatal methods."
   ]
  },
  {
   "cell_type": "markdown",
   "id": "3adadcb6",
   "metadata": {},
   "source": [
    "### Import the necessary libraries"
   ]
  },
  {
   "cell_type": "code",
   "execution_count": 1,
   "id": "4fea496c",
   "metadata": {},
   "outputs": [],
   "source": [
    "import causallib\n",
    "import pandas as pd\n",
    "import numpy as np\n",
    "import matplotlib.pyplot as plt\n",
    "import seaborn as sns\n",
    "import warnings\n",
    "warnings.filterwarnings('ignore')"
   ]
  },
  {
   "cell_type": "markdown",
   "id": "d66b1da6",
   "metadata": {},
   "source": [
    "### Import the data and explore the distribution"
   ]
  },
  {
   "cell_type": "code",
   "execution_count": 2,
   "id": "cb24fe1a",
   "metadata": {},
   "outputs": [
    {
     "data": {
      "text/html": [
       "<div>\n",
       "<style scoped>\n",
       "    .dataframe tbody tr th:only-of-type {\n",
       "        vertical-align: middle;\n",
       "    }\n",
       "\n",
       "    .dataframe tbody tr th {\n",
       "        vertical-align: top;\n",
       "    }\n",
       "\n",
       "    .dataframe thead th {\n",
       "        text-align: right;\n",
       "    }\n",
       "</style>\n",
       "<table border=\"1\" class=\"dataframe\">\n",
       "  <thead>\n",
       "    <tr style=\"text-align: right;\">\n",
       "      <th></th>\n",
       "      <th>employee_id</th>\n",
       "      <th>department</th>\n",
       "      <th>region</th>\n",
       "      <th>education</th>\n",
       "      <th>gender</th>\n",
       "      <th>recruitment_channel</th>\n",
       "      <th>no_of_trainings</th>\n",
       "      <th>age</th>\n",
       "      <th>previous_year_rating</th>\n",
       "      <th>length_of_service</th>\n",
       "      <th>KPIs_met &gt;80%</th>\n",
       "      <th>awards_won?</th>\n",
       "      <th>avg_training_score</th>\n",
       "      <th>is_promoted</th>\n",
       "    </tr>\n",
       "  </thead>\n",
       "  <tbody>\n",
       "    <tr>\n",
       "      <th>0</th>\n",
       "      <td>65438</td>\n",
       "      <td>Sales &amp; Marketing</td>\n",
       "      <td>region_7</td>\n",
       "      <td>Master's &amp; above</td>\n",
       "      <td>f</td>\n",
       "      <td>sourcing</td>\n",
       "      <td>1</td>\n",
       "      <td>35</td>\n",
       "      <td>5.0</td>\n",
       "      <td>8</td>\n",
       "      <td>1</td>\n",
       "      <td>0</td>\n",
       "      <td>49</td>\n",
       "      <td>0</td>\n",
       "    </tr>\n",
       "    <tr>\n",
       "      <th>1</th>\n",
       "      <td>65141</td>\n",
       "      <td>Operations</td>\n",
       "      <td>region_22</td>\n",
       "      <td>Bachelor's</td>\n",
       "      <td>m</td>\n",
       "      <td>other</td>\n",
       "      <td>1</td>\n",
       "      <td>30</td>\n",
       "      <td>5.0</td>\n",
       "      <td>4</td>\n",
       "      <td>0</td>\n",
       "      <td>0</td>\n",
       "      <td>60</td>\n",
       "      <td>0</td>\n",
       "    </tr>\n",
       "    <tr>\n",
       "      <th>2</th>\n",
       "      <td>7513</td>\n",
       "      <td>Sales &amp; Marketing</td>\n",
       "      <td>region_19</td>\n",
       "      <td>Bachelor's</td>\n",
       "      <td>m</td>\n",
       "      <td>sourcing</td>\n",
       "      <td>1</td>\n",
       "      <td>34</td>\n",
       "      <td>3.0</td>\n",
       "      <td>7</td>\n",
       "      <td>0</td>\n",
       "      <td>0</td>\n",
       "      <td>50</td>\n",
       "      <td>0</td>\n",
       "    </tr>\n",
       "    <tr>\n",
       "      <th>3</th>\n",
       "      <td>2542</td>\n",
       "      <td>Sales &amp; Marketing</td>\n",
       "      <td>region_23</td>\n",
       "      <td>Bachelor's</td>\n",
       "      <td>m</td>\n",
       "      <td>other</td>\n",
       "      <td>2</td>\n",
       "      <td>39</td>\n",
       "      <td>1.0</td>\n",
       "      <td>10</td>\n",
       "      <td>0</td>\n",
       "      <td>0</td>\n",
       "      <td>50</td>\n",
       "      <td>0</td>\n",
       "    </tr>\n",
       "    <tr>\n",
       "      <th>4</th>\n",
       "      <td>48945</td>\n",
       "      <td>Technology</td>\n",
       "      <td>region_26</td>\n",
       "      <td>Bachelor's</td>\n",
       "      <td>m</td>\n",
       "      <td>other</td>\n",
       "      <td>1</td>\n",
       "      <td>45</td>\n",
       "      <td>3.0</td>\n",
       "      <td>2</td>\n",
       "      <td>0</td>\n",
       "      <td>0</td>\n",
       "      <td>73</td>\n",
       "      <td>0</td>\n",
       "    </tr>\n",
       "  </tbody>\n",
       "</table>\n",
       "</div>"
      ],
      "text/plain": [
       "   employee_id         department     region         education gender  \\\n",
       "0        65438  Sales & Marketing   region_7  Master's & above      f   \n",
       "1        65141         Operations  region_22        Bachelor's      m   \n",
       "2         7513  Sales & Marketing  region_19        Bachelor's      m   \n",
       "3         2542  Sales & Marketing  region_23        Bachelor's      m   \n",
       "4        48945         Technology  region_26        Bachelor's      m   \n",
       "\n",
       "  recruitment_channel  no_of_trainings  age  previous_year_rating  \\\n",
       "0            sourcing                1   35                   5.0   \n",
       "1               other                1   30                   5.0   \n",
       "2            sourcing                1   34                   3.0   \n",
       "3               other                2   39                   1.0   \n",
       "4               other                1   45                   3.0   \n",
       "\n",
       "   length_of_service  KPIs_met >80%  awards_won?  avg_training_score  \\\n",
       "0                  8              1            0                  49   \n",
       "1                  4              0            0                  60   \n",
       "2                  7              0            0                  50   \n",
       "3                 10              0            0                  50   \n",
       "4                  2              0            0                  73   \n",
       "\n",
       "   is_promoted  \n",
       "0            0  \n",
       "1            0  \n",
       "2            0  \n",
       "3            0  \n",
       "4            0  "
      ]
     },
     "execution_count": 2,
     "metadata": {},
     "output_type": "execute_result"
    }
   ],
   "source": [
    "data = pd.read_csv('Employee_promotion.csv')\n",
    "data.head()"
   ]
  },
  {
   "cell_type": "code",
   "execution_count": 3,
   "id": "c4f8ac01",
   "metadata": {},
   "outputs": [
    {
     "data": {
      "text/plain": [
       "(54808, 14)"
      ]
     },
     "execution_count": 3,
     "metadata": {},
     "output_type": "execute_result"
    }
   ],
   "source": [
    "data.shape"
   ]
  },
  {
   "cell_type": "code",
   "execution_count": 4,
   "id": "c24c7517",
   "metadata": {},
   "outputs": [
    {
     "name": "stdout",
     "output_type": "stream",
     "text": [
      "<class 'pandas.core.frame.DataFrame'>\n",
      "RangeIndex: 54808 entries, 0 to 54807\n",
      "Data columns (total 14 columns):\n",
      " #   Column                Non-Null Count  Dtype  \n",
      "---  ------                --------------  -----  \n",
      " 0   employee_id           54808 non-null  int64  \n",
      " 1   department            54808 non-null  object \n",
      " 2   region                54808 non-null  object \n",
      " 3   education             52399 non-null  object \n",
      " 4   gender                54808 non-null  object \n",
      " 5   recruitment_channel   54808 non-null  object \n",
      " 6   no_of_trainings       54808 non-null  int64  \n",
      " 7   age                   54808 non-null  int64  \n",
      " 8   previous_year_rating  50684 non-null  float64\n",
      " 9   length_of_service     54808 non-null  int64  \n",
      " 10  KPIs_met >80%         54808 non-null  int64  \n",
      " 11  awards_won?           54808 non-null  int64  \n",
      " 12  avg_training_score    54808 non-null  int64  \n",
      " 13  is_promoted           54808 non-null  int64  \n",
      "dtypes: float64(1), int64(8), object(5)\n",
      "memory usage: 5.9+ MB\n"
     ]
    }
   ],
   "source": [
    "data.info()"
   ]
  },
  {
   "cell_type": "markdown",
   "id": "320f3b6b",
   "metadata": {},
   "source": [
    "#### Observations from the dataset\n",
    "\n",
    "* previous_year_rating has some missing data which we will remove\n",
    "* The data contain the variable 'is_promoted' which we shall use as our treatment variable\n",
    "* The data contain the variable 'KPIs_met >80%' which we shall use as our performance variable\n",
    "* We shall drop employee_id variable\n",
    "* We shall rename variables with Underscore"
   ]
  },
  {
   "cell_type": "code",
   "execution_count": 5,
   "id": "4e25800e",
   "metadata": {},
   "outputs": [],
   "source": [
    "data = data.drop('employee_id',axis=1)"
   ]
  },
  {
   "cell_type": "code",
   "execution_count": 6,
   "id": "2d244711",
   "metadata": {},
   "outputs": [],
   "source": [
    "# Drop na\n",
    "\n",
    "data = data.dropna()"
   ]
  },
  {
   "cell_type": "code",
   "execution_count": 7,
   "id": "c7aee555",
   "metadata": {},
   "outputs": [
    {
     "data": {
      "text/plain": [
       "(48660, 13)"
      ]
     },
     "execution_count": 7,
     "metadata": {},
     "output_type": "execute_result"
    }
   ],
   "source": [
    "data.shape"
   ]
  },
  {
   "cell_type": "code",
   "execution_count": 8,
   "id": "0a25c4b1",
   "metadata": {},
   "outputs": [],
   "source": [
    "# rename colums\n",
    "\n",
    "new_names = {'length_of_service':'Experience','KPIs_met >80%':'Performance',\n",
    "             'awards_won?':'awards','is_promoted':'Treatment','previous_year_rating':'rating_ly',\n",
    "             'avg_training_score':'trainingscore','no_of_trainings':'trainings','recruitment_channel':'channel'}\n",
    "\n",
    "data.rename(columns=new_names,inplace=True)"
   ]
  },
  {
   "cell_type": "code",
   "execution_count": 9,
   "id": "a5ff8393",
   "metadata": {},
   "outputs": [
    {
     "name": "stdout",
     "output_type": "stream",
     "text": [
      "<class 'pandas.core.frame.DataFrame'>\n",
      "Int64Index: 48660 entries, 0 to 54807\n",
      "Data columns (total 13 columns):\n",
      " #   Column         Non-Null Count  Dtype  \n",
      "---  ------         --------------  -----  \n",
      " 0   department     48660 non-null  object \n",
      " 1   region         48660 non-null  object \n",
      " 2   education      48660 non-null  object \n",
      " 3   gender         48660 non-null  object \n",
      " 4   channel        48660 non-null  object \n",
      " 5   trainings      48660 non-null  int64  \n",
      " 6   age            48660 non-null  int64  \n",
      " 7   rating_ly      48660 non-null  float64\n",
      " 8   Experience     48660 non-null  int64  \n",
      " 9   Performance    48660 non-null  int64  \n",
      " 10  awards         48660 non-null  int64  \n",
      " 11  trainingscore  48660 non-null  int64  \n",
      " 12  Treatment      48660 non-null  int64  \n",
      "dtypes: float64(1), int64(7), object(5)\n",
      "memory usage: 5.2+ MB\n"
     ]
    }
   ],
   "source": [
    "# Check the cleaned data\n",
    "\n",
    "data.info()"
   ]
  },
  {
   "cell_type": "markdown",
   "id": "b4605c3d",
   "metadata": {},
   "source": [
    "### Experimental Approach"
   ]
  },
  {
   "cell_type": "code",
   "execution_count": 10,
   "id": "fd1d2cd6",
   "metadata": {},
   "outputs": [
    {
     "data": {
      "text/plain": [
       "0    44428\n",
       "1     4232\n",
       "Name: Treatment, dtype: int64"
      ]
     },
     "execution_count": 10,
     "metadata": {},
     "output_type": "execute_result"
    }
   ],
   "source": [
    "# Check for distribution of treatment variable\n",
    "\n",
    "data['Treatment'].value_counts()"
   ]
  },
  {
   "cell_type": "code",
   "execution_count": 11,
   "id": "58933a7a",
   "metadata": {},
   "outputs": [
    {
     "data": {
      "text/plain": [
       "0    31314\n",
       "1    17346\n",
       "Name: Performance, dtype: int64"
      ]
     },
     "execution_count": 11,
     "metadata": {},
     "output_type": "execute_result"
    }
   ],
   "source": [
    "data['Performance'].value_counts()"
   ]
  },
  {
   "cell_type": "markdown",
   "id": "6735b832",
   "metadata": {},
   "source": [
    "About 10% of the employees have received promotion while a greater proprtion of them have not, we shall draw a random sample of about 80% from those with promotion and draw an equivalent sample from those without promotion."
   ]
  },
  {
   "cell_type": "code",
   "execution_count": 12,
   "id": "c73af496",
   "metadata": {},
   "outputs": [],
   "source": [
    "control_group = data[data['Treatment']==0].sample(n=4500,random_state=42)\n",
    "treatment_group = data[data['Treatment']==1].sample(frac=0.8,random_state=42)"
   ]
  },
  {
   "cell_type": "code",
   "execution_count": 13,
   "id": "fa323603",
   "metadata": {},
   "outputs": [
    {
     "data": {
      "text/plain": [
       "0    4500\n",
       "Name: Treatment, dtype: int64"
      ]
     },
     "execution_count": 13,
     "metadata": {},
     "output_type": "execute_result"
    }
   ],
   "source": [
    "control_group['Treatment'].value_counts()"
   ]
  },
  {
   "cell_type": "code",
   "execution_count": 14,
   "id": "3d0a00f5",
   "metadata": {},
   "outputs": [
    {
     "data": {
      "text/plain": [
       "1    3386\n",
       "Name: Treatment, dtype: int64"
      ]
     },
     "execution_count": 14,
     "metadata": {},
     "output_type": "execute_result"
    }
   ],
   "source": [
    "treatment_group['Treatment'].value_counts()"
   ]
  },
  {
   "cell_type": "code",
   "execution_count": 15,
   "id": "715c113c",
   "metadata": {},
   "outputs": [],
   "source": [
    "# Merge the datasets\n",
    "\n",
    "df = pd.concat([control_group,treatment_group],axis=0)"
   ]
  },
  {
   "cell_type": "code",
   "execution_count": 16,
   "id": "3b12eb80",
   "metadata": {},
   "outputs": [
    {
     "data": {
      "text/plain": [
       "0    0.570631\n",
       "1    0.429369\n",
       "Name: Treatment, dtype: float64"
      ]
     },
     "execution_count": 16,
     "metadata": {},
     "output_type": "execute_result"
    }
   ],
   "source": [
    "df['Treatment'].value_counts(normalize=True)"
   ]
  },
  {
   "cell_type": "code",
   "execution_count": 17,
   "id": "0ab94bd2",
   "metadata": {},
   "outputs": [
    {
     "data": {
      "text/html": [
       "<div>\n",
       "<style scoped>\n",
       "    .dataframe tbody tr th:only-of-type {\n",
       "        vertical-align: middle;\n",
       "    }\n",
       "\n",
       "    .dataframe tbody tr th {\n",
       "        vertical-align: top;\n",
       "    }\n",
       "\n",
       "    .dataframe thead th {\n",
       "        text-align: right;\n",
       "    }\n",
       "</style>\n",
       "<table border=\"1\" class=\"dataframe\">\n",
       "  <thead>\n",
       "    <tr style=\"text-align: right;\">\n",
       "      <th></th>\n",
       "      <th>department</th>\n",
       "      <th>region</th>\n",
       "      <th>education</th>\n",
       "      <th>gender</th>\n",
       "      <th>channel</th>\n",
       "      <th>trainings</th>\n",
       "      <th>age</th>\n",
       "      <th>rating_ly</th>\n",
       "      <th>Experience</th>\n",
       "      <th>Performance</th>\n",
       "      <th>awards</th>\n",
       "      <th>trainingscore</th>\n",
       "      <th>Treatment</th>\n",
       "    </tr>\n",
       "  </thead>\n",
       "  <tbody>\n",
       "    <tr>\n",
       "      <th>33068</th>\n",
       "      <td>Operations</td>\n",
       "      <td>region_5</td>\n",
       "      <td>Bachelor's</td>\n",
       "      <td>m</td>\n",
       "      <td>sourcing</td>\n",
       "      <td>1</td>\n",
       "      <td>32</td>\n",
       "      <td>4.0</td>\n",
       "      <td>5</td>\n",
       "      <td>0</td>\n",
       "      <td>0</td>\n",
       "      <td>61</td>\n",
       "      <td>0</td>\n",
       "    </tr>\n",
       "    <tr>\n",
       "      <th>50346</th>\n",
       "      <td>Technology</td>\n",
       "      <td>region_11</td>\n",
       "      <td>Bachelor's</td>\n",
       "      <td>f</td>\n",
       "      <td>other</td>\n",
       "      <td>1</td>\n",
       "      <td>35</td>\n",
       "      <td>1.0</td>\n",
       "      <td>4</td>\n",
       "      <td>1</td>\n",
       "      <td>0</td>\n",
       "      <td>76</td>\n",
       "      <td>0</td>\n",
       "    </tr>\n",
       "    <tr>\n",
       "      <th>43021</th>\n",
       "      <td>Operations</td>\n",
       "      <td>region_26</td>\n",
       "      <td>Bachelor's</td>\n",
       "      <td>m</td>\n",
       "      <td>other</td>\n",
       "      <td>1</td>\n",
       "      <td>28</td>\n",
       "      <td>3.0</td>\n",
       "      <td>4</td>\n",
       "      <td>0</td>\n",
       "      <td>0</td>\n",
       "      <td>59</td>\n",
       "      <td>0</td>\n",
       "    </tr>\n",
       "    <tr>\n",
       "      <th>30680</th>\n",
       "      <td>Technology</td>\n",
       "      <td>region_15</td>\n",
       "      <td>Bachelor's</td>\n",
       "      <td>m</td>\n",
       "      <td>other</td>\n",
       "      <td>2</td>\n",
       "      <td>40</td>\n",
       "      <td>5.0</td>\n",
       "      <td>13</td>\n",
       "      <td>1</td>\n",
       "      <td>0</td>\n",
       "      <td>78</td>\n",
       "      <td>0</td>\n",
       "    </tr>\n",
       "    <tr>\n",
       "      <th>28142</th>\n",
       "      <td>Sales &amp; Marketing</td>\n",
       "      <td>region_2</td>\n",
       "      <td>Bachelor's</td>\n",
       "      <td>f</td>\n",
       "      <td>sourcing</td>\n",
       "      <td>1</td>\n",
       "      <td>40</td>\n",
       "      <td>3.0</td>\n",
       "      <td>11</td>\n",
       "      <td>0</td>\n",
       "      <td>0</td>\n",
       "      <td>54</td>\n",
       "      <td>0</td>\n",
       "    </tr>\n",
       "  </tbody>\n",
       "</table>\n",
       "</div>"
      ],
      "text/plain": [
       "              department     region   education gender   channel  trainings  \\\n",
       "33068         Operations   region_5  Bachelor's      m  sourcing          1   \n",
       "50346         Technology  region_11  Bachelor's      f     other          1   \n",
       "43021         Operations  region_26  Bachelor's      m     other          1   \n",
       "30680         Technology  region_15  Bachelor's      m     other          2   \n",
       "28142  Sales & Marketing   region_2  Bachelor's      f  sourcing          1   \n",
       "\n",
       "       age  rating_ly  Experience  Performance  awards  trainingscore  \\\n",
       "33068   32        4.0           5            0       0             61   \n",
       "50346   35        1.0           4            1       0             76   \n",
       "43021   28        3.0           4            0       0             59   \n",
       "30680   40        5.0          13            1       0             78   \n",
       "28142   40        3.0          11            0       0             54   \n",
       "\n",
       "       Treatment  \n",
       "33068          0  \n",
       "50346          0  \n",
       "43021          0  \n",
       "30680          0  \n",
       "28142          0  "
      ]
     },
     "execution_count": 17,
     "metadata": {},
     "output_type": "execute_result"
    }
   ],
   "source": [
    "df.head()"
   ]
  },
  {
   "cell_type": "markdown",
   "id": "8d0c8d54",
   "metadata": {},
   "source": [
    "### Initial Analysis \n",
    "\n",
    "We compare the performance of influence of promotion without controlling for the counfounding factors"
   ]
  },
  {
   "cell_type": "code",
   "execution_count": 18,
   "id": "22d8b325",
   "metadata": {},
   "outputs": [
    {
     "data": {
      "image/png": "[encoded data removed]",
      "text/plain": [
       "<Figure size 432x288 with 1 Axes>"
      ]
     },
     "metadata": {
      "needs_background": "light"
     },
     "output_type": "display_data"
    },
    {
     "name": "stdout",
     "output_type": "stream",
     "text": [
      "Difference between Control and Treatment 0.37312\n"
     ]
    }
   ],
   "source": [
    "sns.set_style(\"whitegrid\")\n",
    "sns.barplot(x = ['Control', 'Treatment'], y = df.groupby('Treatment')['Performance'].mean().values)\n",
    "plt.title('Performance Rate')\n",
    "plt.show()\n",
    "print(f'Difference between Control and Treatment {np.round(df.groupby(\"Treatment\")[\"Performance\"].mean()[1] - df.groupby(\"Treatment\")[\"Performance\"].mean()[0], 5)}')"
   ]
  },
  {
   "cell_type": "code",
   "execution_count": 19,
   "id": "c92d3bc7",
   "metadata": {},
   "outputs": [],
   "source": [
    "### Convert the dataset to dummy variables\n",
    "\n",
    "data_df = pd.get_dummies(df,drop_first=True,prefix_sep=('*'))"
   ]
  },
  {
   "cell_type": "code",
   "execution_count": 20,
   "id": "86f9ab19",
   "metadata": {},
   "outputs": [
    {
     "data": {
      "text/plain": [
       "(7886, 54)"
      ]
     },
     "execution_count": 20,
     "metadata": {},
     "output_type": "execute_result"
    }
   ],
   "source": [
    "data_df.shape"
   ]
  },
  {
   "cell_type": "code",
   "execution_count": 21,
   "id": "3c8c0ee6",
   "metadata": {},
   "outputs": [
    {
     "data": {
      "text/html": [
       "<div>\n",
       "<style scoped>\n",
       "    .dataframe tbody tr th:only-of-type {\n",
       "        vertical-align: middle;\n",
       "    }\n",
       "\n",
       "    .dataframe tbody tr th {\n",
       "        vertical-align: top;\n",
       "    }\n",
       "\n",
       "    .dataframe thead th {\n",
       "        text-align: right;\n",
       "    }\n",
       "</style>\n",
       "<table border=\"1\" class=\"dataframe\">\n",
       "  <thead>\n",
       "    <tr style=\"text-align: right;\">\n",
       "      <th></th>\n",
       "      <th>trainings</th>\n",
       "      <th>age</th>\n",
       "      <th>rating_ly</th>\n",
       "      <th>Experience</th>\n",
       "      <th>Performance</th>\n",
       "      <th>awards</th>\n",
       "      <th>trainingscore</th>\n",
       "      <th>department*Finance</th>\n",
       "      <th>department*HR</th>\n",
       "      <th>department*Legal</th>\n",
       "      <th>...</th>\n",
       "      <th>region*region_5</th>\n",
       "      <th>region*region_6</th>\n",
       "      <th>region*region_7</th>\n",
       "      <th>region*region_8</th>\n",
       "      <th>region*region_9</th>\n",
       "      <th>education*Below Secondary</th>\n",
       "      <th>education*Master's &amp; above</th>\n",
       "      <th>gender*m</th>\n",
       "      <th>channel*referred</th>\n",
       "      <th>channel*sourcing</th>\n",
       "    </tr>\n",
       "    <tr>\n",
       "      <th>Treatment</th>\n",
       "      <th></th>\n",
       "      <th></th>\n",
       "      <th></th>\n",
       "      <th></th>\n",
       "      <th></th>\n",
       "      <th></th>\n",
       "      <th></th>\n",
       "      <th></th>\n",
       "      <th></th>\n",
       "      <th></th>\n",
       "      <th></th>\n",
       "      <th></th>\n",
       "      <th></th>\n",
       "      <th></th>\n",
       "      <th></th>\n",
       "      <th></th>\n",
       "      <th></th>\n",
       "      <th></th>\n",
       "      <th></th>\n",
       "      <th></th>\n",
       "      <th></th>\n",
       "    </tr>\n",
       "  </thead>\n",
       "  <tbody>\n",
       "    <tr>\n",
       "      <th>0</th>\n",
       "      <td>1.268889</td>\n",
       "      <td>35.734222</td>\n",
       "      <td>3.283556</td>\n",
       "      <td>6.419778</td>\n",
       "      <td>0.328000</td>\n",
       "      <td>0.013111</td>\n",
       "      <td>62.727111</td>\n",
       "      <td>0.048889</td>\n",
       "      <td>0.043778</td>\n",
       "      <td>0.019556</td>\n",
       "      <td>...</td>\n",
       "      <td>0.013556</td>\n",
       "      <td>0.011778</td>\n",
       "      <td>0.087333</td>\n",
       "      <td>0.011556</td>\n",
       "      <td>0.008000</td>\n",
       "      <td>0.012000</td>\n",
       "      <td>0.299111</td>\n",
       "      <td>0.701778</td>\n",
       "      <td>0.017333</td>\n",
       "      <td>0.417556</td>\n",
       "    </tr>\n",
       "    <tr>\n",
       "      <th>1</th>\n",
       "      <td>1.204962</td>\n",
       "      <td>34.896929</td>\n",
       "      <td>3.987301</td>\n",
       "      <td>6.049321</td>\n",
       "      <td>0.701122</td>\n",
       "      <td>0.121087</td>\n",
       "      <td>71.323095</td>\n",
       "      <td>0.045186</td>\n",
       "      <td>0.025103</td>\n",
       "      <td>0.009746</td>\n",
       "      <td>...</td>\n",
       "      <td>0.006793</td>\n",
       "      <td>0.007383</td>\n",
       "      <td>0.112817</td>\n",
       "      <td>0.012404</td>\n",
       "      <td>0.002067</td>\n",
       "      <td>0.008269</td>\n",
       "      <td>0.339634</td>\n",
       "      <td>0.674542</td>\n",
       "      <td>0.031305</td>\n",
       "      <td>0.423509</td>\n",
       "    </tr>\n",
       "  </tbody>\n",
       "</table>\n",
       "<p>2 rows × 53 columns</p>\n",
       "</div>"
      ],
      "text/plain": [
       "           trainings        age  rating_ly  Experience  Performance    awards  \\\n",
       "Treatment                                                                       \n",
       "0           1.268889  35.734222   3.283556    6.419778     0.328000  0.013111   \n",
       "1           1.204962  34.896929   3.987301    6.049321     0.701122  0.121087   \n",
       "\n",
       "           trainingscore  department*Finance  department*HR  department*Legal  \\\n",
       "Treatment                                                                       \n",
       "0              62.727111            0.048889       0.043778          0.019556   \n",
       "1              71.323095            0.045186       0.025103          0.009746   \n",
       "\n",
       "           ...  region*region_5  region*region_6  region*region_7  \\\n",
       "Treatment  ...                                                      \n",
       "0          ...         0.013556         0.011778         0.087333   \n",
       "1          ...         0.006793         0.007383         0.112817   \n",
       "\n",
       "           region*region_8  region*region_9  education*Below Secondary  \\\n",
       "Treatment                                                                \n",
       "0                 0.011556         0.008000                   0.012000   \n",
       "1                 0.012404         0.002067                   0.008269   \n",
       "\n",
       "           education*Master's & above  gender*m  channel*referred  \\\n",
       "Treatment                                                           \n",
       "0                            0.299111  0.701778          0.017333   \n",
       "1                            0.339634  0.674542          0.031305   \n",
       "\n",
       "           channel*sourcing  \n",
       "Treatment                    \n",
       "0                  0.417556  \n",
       "1                  0.423509  \n",
       "\n",
       "[2 rows x 53 columns]"
      ]
     },
     "execution_count": 21,
     "metadata": {},
     "output_type": "execute_result"
    }
   ],
   "source": [
    "# Check balancing of covariates\n",
    "\n",
    "data_df.groupby('Treatment').mean()"
   ]
  },
  {
   "cell_type": "markdown",
   "id": "4a89ed0c",
   "metadata": {},
   "source": [
    "A cursory look at the distribution of the covariates between the treatment group and untreated groups shows some imbalance, for instance, trainingscore for the control group is 9 points lower than those in treatment group, similarly for awards, rating_ly, age, department*HR etc.  Hence, there is a need to ensure covariate balance before accepting our initial result of the effect of promotion on performance.\n",
    "\n",
    "causallib provide us with several methods of ensuring that we get balancing of covariates which we shall implement here"
   ]
  },
  {
   "cell_type": "code",
   "execution_count": 22,
   "id": "1b48aba7",
   "metadata": {},
   "outputs": [],
   "source": [
    "#  Variable selection\n",
    "X = df.drop(['Performance','Treatment'],axis=1)\n",
    "X = pd.get_dummies(X,drop_first=True,prefix_sep=('*'))\n",
    "y = df['Performance']\n",
    "a = df['Treatment']"
   ]
  },
  {
   "cell_type": "code",
   "execution_count": 23,
   "id": "99d01aa8",
   "metadata": {},
   "outputs": [],
   "source": [
    "from sklearn.linear_model import LogisticRegression, LinearRegression\n",
    "from matplotlib import pyplot as plt\n",
    "from causallib.estimation import (\n",
    "    PropensityFeatureStandardization,\n",
    "    WeightedStandardization,\n",
    "    AIPW,\n",
    "    IPW,\n",
    "    MarginalOutcomeEstimator,\n",
    "    Standardization,\n",
    "    StratifiedStandardization,\n",
    "    Matching,\n",
    "    PropensityMatching,\n",
    ")\n",
    "from causallib.preprocessing.transformers import MatchingTransformer\n",
    "\n",
    "\n",
    "def learner(): return LogisticRegression(\n",
    "    solver=\"liblinear\", class_weight=\"balanced\", max_iter=5000)\n",
    "\n",
    "\n",
    "def makeipw(): return IPW(learner=learner())\n",
    "def makestd(): return StratifiedStandardization(learner=LinearRegression())\n",
    "\n",
    "\n",
    "all_estimators = [\n",
    "    MarginalOutcomeEstimator(learner=LinearRegression()),\n",
    "    Matching(with_replacement=False),\n",
    "    PropensityMatching(learner=learner(), caliper=0.1),\n",
    "    IPW(learner=learner()),\n",
    "    Standardization(learner=LinearRegression()),\n",
    "    StratifiedStandardization(learner=LinearRegression()),\n",
    "    PropensityFeatureStandardization(makestd(), makeipw()),\n",
    "    WeightedStandardization(makestd(), makeipw()),\n",
    "    AIPW(makestd(), makeipw()),\n",
    "]\n",
    "\n",
    "\n",
    "def get_all_estimates(X, a, y):\n",
    "    estimates = {}\n",
    "    for estimator in all_estimators:\n",
    "        estimator.fit(X, a, y)\n",
    "        estimator_name = estimator.__class__.__name__\n",
    "        estimates[estimator_name] = estimator.estimate_population_outcome(\n",
    "            X, a, y)\n",
    "    estimates_df = pd.concat(estimates, axis=1).T\n",
    "    return estimates_df"
   ]
  },
  {
   "cell_type": "code",
   "execution_count": 24,
   "id": "126e84b3",
   "metadata": {},
   "outputs": [
    {
     "data": {
      "text/html": [
       "<div>\n",
       "<style scoped>\n",
       "    .dataframe tbody tr th:only-of-type {\n",
       "        vertical-align: middle;\n",
       "    }\n",
       "\n",
       "    .dataframe tbody tr th {\n",
       "        vertical-align: top;\n",
       "    }\n",
       "\n",
       "    .dataframe thead th {\n",
       "        text-align: right;\n",
       "    }\n",
       "</style>\n",
       "<table border=\"1\" class=\"dataframe\">\n",
       "  <thead>\n",
       "    <tr style=\"text-align: right;\">\n",
       "      <th></th>\n",
       "      <th>0</th>\n",
       "      <th>1</th>\n",
       "      <th>ATE</th>\n",
       "    </tr>\n",
       "  </thead>\n",
       "  <tbody>\n",
       "    <tr>\n",
       "      <th>MarginalOutcomeEstimator</th>\n",
       "      <td>0.328000</td>\n",
       "      <td>0.701122</td>\n",
       "      <td>0.373122</td>\n",
       "    </tr>\n",
       "    <tr>\n",
       "      <th>Matching</th>\n",
       "      <td>0.350856</td>\n",
       "      <td>0.701122</td>\n",
       "      <td>0.350266</td>\n",
       "    </tr>\n",
       "    <tr>\n",
       "      <th>PropensityMatching</th>\n",
       "      <td>0.431524</td>\n",
       "      <td>0.815369</td>\n",
       "      <td>0.383845</td>\n",
       "    </tr>\n",
       "    <tr>\n",
       "      <th>IPW</th>\n",
       "      <td>0.390418</td>\n",
       "      <td>0.791586</td>\n",
       "      <td>0.401168</td>\n",
       "    </tr>\n",
       "    <tr>\n",
       "      <th>Standardization</th>\n",
       "      <td>0.322074</td>\n",
       "      <td>0.708998</td>\n",
       "      <td>0.386923</td>\n",
       "    </tr>\n",
       "    <tr>\n",
       "      <th>StratifiedStandardization</th>\n",
       "      <td>0.386640</td>\n",
       "      <td>0.757062</td>\n",
       "      <td>0.370423</td>\n",
       "    </tr>\n",
       "    <tr>\n",
       "      <th>PropensityFeatureStandardization</th>\n",
       "      <td>0.378432</td>\n",
       "      <td>0.677903</td>\n",
       "      <td>0.299471</td>\n",
       "    </tr>\n",
       "    <tr>\n",
       "      <th>WeightedStandardization</th>\n",
       "      <td>0.388272</td>\n",
       "      <td>0.805236</td>\n",
       "      <td>0.416964</td>\n",
       "    </tr>\n",
       "    <tr>\n",
       "      <th>AIPW</th>\n",
       "      <td>0.389532</td>\n",
       "      <td>0.793782</td>\n",
       "      <td>0.404250</td>\n",
       "    </tr>\n",
       "  </tbody>\n",
       "</table>\n",
       "</div>"
      ],
      "text/plain": [
       "                                         0         1       ATE\n",
       "MarginalOutcomeEstimator          0.328000  0.701122  0.373122\n",
       "Matching                          0.350856  0.701122  0.350266\n",
       "PropensityMatching                0.431524  0.815369  0.383845\n",
       "IPW                               0.390418  0.791586  0.401168\n",
       "Standardization                   0.322074  0.708998  0.386923\n",
       "StratifiedStandardization         0.386640  0.757062  0.370423\n",
       "PropensityFeatureStandardization  0.378432  0.677903  0.299471\n",
       "WeightedStandardization           0.388272  0.805236  0.416964\n",
       "AIPW                              0.389532  0.793782  0.404250"
      ]
     },
     "execution_count": 24,
     "metadata": {},
     "output_type": "execute_result"
    }
   ],
   "source": [
    "all_estimates = get_all_estimates(X, a, y)\n",
    "all_estimates.assign(ATE=all_estimates[1] - all_estimates[0])"
   ]
  },
  {
   "cell_type": "markdown",
   "id": "44459aa2",
   "metadata": {},
   "source": [
    "### Restricting the sample with Matching\n",
    "\n",
    "Given that our covariates were not balanced, we need to get a balanced covariate sample to get the actual impact of our treatment on employee performance.  One method of achieving this is to restrict our sample to the matched cases."
   ]
  },
  {
   "cell_type": "code",
   "execution_count": 26,
   "id": "8d87a954",
   "metadata": {},
   "outputs": [],
   "source": [
    "from causallib.preprocessing.transformers import PropensityTransformer\n",
    "propensity_transform = PropensityTransformer(learner=learner(), include_covariates=True)"
   ]
  },
  {
   "cell_type": "code",
   "execution_count": 27,
   "id": "8144fc70",
   "metadata": {},
   "outputs": [
    {
     "name": "stdout",
     "output_type": "stream",
     "text": [
      "Transforming data from 7886 samples to 6772 samples by matching without replacement.\n"
     ]
    }
   ],
   "source": [
    "mt = MatchingTransformer(with_replacement=False, propensity_transform=propensity_transform)\n",
    "Xm, am, ym = mt.fit_transform(X, a, y)\n",
    "print(f\"Transforming data from {X.shape[0]} samples to {Xm.shape[0]} samples by matching without replacement.\")"
   ]
  },
  {
   "cell_type": "code",
   "execution_count": 31,
   "id": "e8f55123",
   "metadata": {},
   "outputs": [
    {
     "data": {
      "text/html": [
       "<div>\n",
       "<style scoped>\n",
       "    .dataframe tbody tr th:only-of-type {\n",
       "        vertical-align: middle;\n",
       "    }\n",
       "\n",
       "    .dataframe tbody tr th {\n",
       "        vertical-align: top;\n",
       "    }\n",
       "\n",
       "    .dataframe thead th {\n",
       "        text-align: right;\n",
       "    }\n",
       "</style>\n",
       "<table border=\"1\" class=\"dataframe\">\n",
       "  <thead>\n",
       "    <tr style=\"text-align: right;\">\n",
       "      <th></th>\n",
       "      <th>0</th>\n",
       "      <th>1</th>\n",
       "      <th>ATE</th>\n",
       "    </tr>\n",
       "  </thead>\n",
       "  <tbody>\n",
       "    <tr>\n",
       "      <th>MarginalOutcomeEstimator</th>\n",
       "      <td>0.349084</td>\n",
       "      <td>0.701122</td>\n",
       "      <td>0.352038</td>\n",
       "    </tr>\n",
       "    <tr>\n",
       "      <th>Matching</th>\n",
       "      <td>0.349084</td>\n",
       "      <td>0.701122</td>\n",
       "      <td>0.352038</td>\n",
       "    </tr>\n",
       "    <tr>\n",
       "      <th>PropensityMatching</th>\n",
       "      <td>0.474454</td>\n",
       "      <td>0.793414</td>\n",
       "      <td>0.318960</td>\n",
       "    </tr>\n",
       "    <tr>\n",
       "      <th>IPW</th>\n",
       "      <td>0.399299</td>\n",
       "      <td>0.788556</td>\n",
       "      <td>0.389258</td>\n",
       "    </tr>\n",
       "    <tr>\n",
       "      <th>Standardization</th>\n",
       "      <td>0.332748</td>\n",
       "      <td>0.717459</td>\n",
       "      <td>0.384711</td>\n",
       "    </tr>\n",
       "    <tr>\n",
       "      <th>StratifiedStandardization</th>\n",
       "      <td>0.411117</td>\n",
       "      <td>0.747205</td>\n",
       "      <td>0.336088</td>\n",
       "    </tr>\n",
       "    <tr>\n",
       "      <th>PropensityFeatureStandardization</th>\n",
       "      <td>0.402193</td>\n",
       "      <td>0.658116</td>\n",
       "      <td>0.255923</td>\n",
       "    </tr>\n",
       "    <tr>\n",
       "      <th>WeightedStandardization</th>\n",
       "      <td>0.409665</td>\n",
       "      <td>0.790908</td>\n",
       "      <td>0.381243</td>\n",
       "    </tr>\n",
       "    <tr>\n",
       "      <th>AIPW</th>\n",
       "      <td>0.412336</td>\n",
       "      <td>0.789477</td>\n",
       "      <td>0.377141</td>\n",
       "    </tr>\n",
       "  </tbody>\n",
       "</table>\n",
       "</div>"
      ],
      "text/plain": [
       "                                         0         1       ATE\n",
       "MarginalOutcomeEstimator          0.349084  0.701122  0.352038\n",
       "Matching                          0.349084  0.701122  0.352038\n",
       "PropensityMatching                0.474454  0.793414  0.318960\n",
       "IPW                               0.399299  0.788556  0.389258\n",
       "Standardization                   0.332748  0.717459  0.384711\n",
       "StratifiedStandardization         0.411117  0.747205  0.336088\n",
       "PropensityFeatureStandardization  0.402193  0.658116  0.255923\n",
       "WeightedStandardization           0.409665  0.790908  0.381243\n",
       "AIPW                              0.412336  0.789477  0.377141"
      ]
     },
     "execution_count": 31,
     "metadata": {},
     "output_type": "execute_result"
    }
   ],
   "source": [
    "all_estimates_matched = get_all_estimates(Xm, am, ym)\n",
    "all_estimates_matched.assign(ATE=all_estimates_matched[1] - all_estimates_matched[0])"
   ]
  },
  {
   "cell_type": "markdown",
   "id": "0a9d6fe1",
   "metadata": {},
   "source": [
    "The results of all the estimators with matched samples were not signficantly different when compared with the unmatched samples. Putting the results of all of them together, the ATE is still above 30%"
   ]
  },
  {
   "cell_type": "code",
   "execution_count": 32,
   "id": "04f067ef",
   "metadata": {},
   "outputs": [
    {
     "data": {
      "image/png": "[encoded data removed]",
      "text/plain": [
       "<Figure size 576x432 with 1 Axes>"
      ]
     },
     "metadata": {
      "needs_background": "light"
     },
     "output_type": "display_data"
    }
   ],
   "source": [
    "f, ax = plt.subplots(figsize=(8, 6))\n",
    "all_estimates_matched.T.plot(ax=ax)\n",
    "plt.ylabel(y.name)\n",
    "plt.xlabel(a.name)\n",
    "plt.xticks([0, 1], [\"No_Promotion\", \"Promotion\"]);"
   ]
  },
  {
   "cell_type": "code",
   "execution_count": null,
   "id": "1ee88cd0",
   "metadata": {},
   "outputs": [],
   "source": []
  }
 ],
 "metadata": {
  "kernelspec": {
   "display_name": "Python 3 (ipykernel)",
   "language": "python",
   "name": "python3"
  },
  "language_info": {
   "codemirror_mode": {
    "name": "ipython",
    "version": 3
   },
   "file_extension": ".py",
   "mimetype": "text/x-python",
   "name": "python",
   "nbconvert_exporter": "python",
   "pygments_lexer": "ipython3",
   "version": "3.9.7"
  }
 },
 "nbformat": 4,
 "nbformat_minor": 5
}
